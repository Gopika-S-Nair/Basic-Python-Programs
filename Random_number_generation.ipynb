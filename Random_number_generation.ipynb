{
  "nbformat": 4,
  "nbformat_minor": 0,
  "metadata": {
    "colab": {
      "provenance": []
    },
    "kernelspec": {
      "name": "python3",
      "display_name": "Python 3"
    },
    "language_info": {
      "name": "python"
    }
  },
  "cells": [
    {
      "cell_type": "markdown",
      "source": [
        "**Program to Generate a Random Number in Python**\n",
        "\n",
        "A function called randint() from the module named random will be used to create a random number between a given range.\n",
        "\n",
        "Here, we will use the randint() function to write a program to generate a random number."
      ],
      "metadata": {
        "id": "SHWWGllX1r1u"
      }
    },
    {
      "cell_type": "code",
      "execution_count": 1,
      "metadata": {
        "colab": {
          "base_uri": "https://localhost:8080/"
        },
        "id": "FO7mkg2h1mK-",
        "outputId": "e460d462-eb4d-4179-9e21-856830eab0ea"
      },
      "outputs": [
        {
          "output_type": "stream",
          "name": "stdout",
          "text": [
            "Generated Random Number: 12\n"
          ]
        }
      ],
      "source": [
        "# importing the random module\n",
        "\n",
        "import random\n",
        "\n",
        "#random number between 0 and 100\n",
        "\n",
        "number = random.randint(0,100)\n",
        "\n",
        "#printing output\n",
        "\n",
        "print('Generated Random Number:',number)"
      ]
    }
  ]
}