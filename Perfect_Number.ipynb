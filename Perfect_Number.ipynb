{
  "nbformat": 4,
  "nbformat_minor": 0,
  "metadata": {
    "colab": {
      "provenance": [],
      "authorship_tag": "ABX9TyPNbrblGlSCrmwJKN0LjZV9",
      "include_colab_link": true
    },
    "kernelspec": {
      "name": "python3",
      "display_name": "Python 3"
    },
    "language_info": {
      "name": "python"
    }
  },
  "cells": [
    {
      "cell_type": "markdown",
      "metadata": {
        "id": "view-in-github",
        "colab_type": "text"
      },
      "source": [
        "<a href=\"https://colab.research.google.com/github/Gopika-S-Nair/Basic-Python-Programs/blob/main/Perfect_Number.ipynb\" target=\"_parent\"><img src=\"https://colab.research.google.com/assets/colab-badge.svg\" alt=\"Open In Colab\"/></a>"
      ]
    },
    {
      "cell_type": "markdown",
      "source": [
        "#Python program to find if a number is perfect number or not.\n",
        "\n",
        "- A perfect number is a positive integer that is equal to the sum of its positive divisors, excluding the number itself.\n",
        "\n",
        "- The smallest perfect number is 6, which is the sum of 1, 2, and 3."
      ],
      "metadata": {
        "id": "yIguqoWLA39n"
      }
    },
    {
      "cell_type": "code",
      "execution_count": 3,
      "metadata": {
        "colab": {
          "base_uri": "https://localhost:8080/"
        },
        "id": "6FFg9HpR1xuu",
        "outputId": "c898c4c1-aad7-4658-caa3-4a46d88ded40"
      },
      "outputs": [
        {
          "output_type": "stream",
          "name": "stdout",
          "text": [
            "Enter the number : 20\n",
            "Nah ! 20 is not a Perfect Number.\n"
          ]
        }
      ],
      "source": [
        "n = int(input(\"Enter the number : \"))\n",
        "\n",
        "sum=0\n",
        "\n",
        "for i in range(1,n):\n",
        "    if n%i==0:\n",
        "        sum+=i\n",
        "\n",
        "if sum==n:\n",
        "    print(\"Yay!\", n , \"is a Perfect Number !\")\n",
        "else:\n",
        "    print(\"Nah !\", n , \"is not a Perfect Number.\")"
      ]
    }
  ]
}