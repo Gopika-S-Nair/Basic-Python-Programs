{
  "nbformat": 4,
  "nbformat_minor": 0,
  "metadata": {
    "colab": {
      "provenance": []
    },
    "kernelspec": {
      "name": "python3",
      "display_name": "Python 3"
    },
    "language_info": {
      "name": "python"
    }
  },
  "cells": [
    {
      "cell_type": "markdown",
      "source": [
        "**EVEN OR ODD**\n",
        "\n",
        "In this program we will get the input from the user and check if the entered number is even or odd.\n"
      ],
      "metadata": {
        "id": "OkEOA4fg-oIf"
      }
    },
    {
      "cell_type": "code",
      "execution_count": 1,
      "metadata": {
        "colab": {
          "base_uri": "https://localhost:8080/"
        },
        "id": "zka5mDn0-eK5",
        "outputId": "b37e6b0e-6a6e-4d8d-92e4-6f9b880b74a7"
      },
      "outputs": [
        {
          "output_type": "stream",
          "name": "stdout",
          "text": [
            "Enter a number : 7\n",
            "7 is an odd number\n"
          ]
        }
      ],
      "source": [
        "# getting input from user\n",
        "\n",
        "num = int(input(\"Enter a number : \"))\n",
        "\n",
        "#condition\n",
        "\n",
        "if num % 2 == 0:\n",
        "  print(num, \"is an even number\")7\n",
        "elif num % 2 == 1:\n",
        "  print(num, \"is an odd number\")\n",
        "else:\n",
        "   print(\"Error, Invalid input\")"
      ]
    }
  ]
}