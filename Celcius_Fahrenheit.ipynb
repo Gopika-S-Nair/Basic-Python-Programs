{
  "nbformat": 4,
  "nbformat_minor": 0,
  "metadata": {
    "colab": {
      "provenance": []
    },
    "kernelspec": {
      "name": "python3",
      "display_name": "Python 3"
    },
    "language_info": {
      "name": "python"
    }
  },
  "cells": [
    {
      "cell_type": "markdown",
      "source": [
        "**Converting Celcius to Fahrenheit and vice versa**\n",
        "\n",
        "Here, we will see how to write a python program for converting degree Celsius temperature into degree Fahrenheit temperature and Fahrenheit to Celcius."
      ],
      "metadata": {
        "id": "6Rr0R3gAmGxj"
      }
    },
    {
      "cell_type": "markdown",
      "source": [
        "**FORMULA**\n",
        "\n",
        "\n",
        "Celcius to Fahrenheit . (c * 1.8) + 32.\n",
        "\n",
        "Fahrenheit to Celcius . (f - 32) * 5 / 9"
      ],
      "metadata": {
        "id": "gsFc8RG6klrC"
      }
    },
    {
      "cell_type": "code",
      "source": [
        "# python program to convert celcius to fahrenheit\n",
        "\n",
        "c = float(input('Enter temperature in celcius : '))\n",
        "f = (c * 1.8) + 32\n",
        "\n",
        "# printing output as fahrenheit\n",
        "print('Fahrenheit = ',f)"
      ],
      "metadata": {
        "colab": {
          "base_uri": "https://localhost:8080/"
        },
        "id": "7WZffZb4kl5W",
        "outputId": "2813776c-85cd-48c8-d77d-96e198a80663"
      },
      "execution_count": 4,
      "outputs": [
        {
          "output_type": "stream",
          "name": "stdout",
          "text": [
            "Enter temperature in celcius : 32\n",
            "Fahrenheit =  89.6\n"
          ]
        }
      ]
    },
    {
      "cell_type": "code",
      "source": [
        "# python program to convert fahrenheit to celcius\n",
        "\n",
        "fahrenheit = float(input('Enter temperature in fahrenheit : '))\n",
        "celcius = (fahrenheit - 32) * 5/9\n",
        "\n",
        "# printing output as celcius\n",
        "\n",
        "print('Celcius = ', celcius)"
      ],
      "metadata": {
        "colab": {
          "base_uri": "https://localhost:8080/"
        },
        "id": "Ur__WIiuofje",
        "outputId": "1e11191a-3cd0-4a5d-cf6e-11adc0cb59ff"
      },
      "execution_count": 7,
      "outputs": [
        {
          "output_type": "stream",
          "name": "stdout",
          "text": [
            "Enter temperature in fahrenheit : 90.4\n",
            "Celcius =  32.44444444444444\n"
          ]
        }
      ]
    }
  ]
}