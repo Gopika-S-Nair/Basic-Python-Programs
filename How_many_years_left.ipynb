{
  "nbformat": 4,
  "nbformat_minor": 0,
  "metadata": {
    "colab": {
      "provenance": [],
      "authorship_tag": "ABX9TyPMP7loGaaQ4VjYy6vyhy87",
      "include_colab_link": true
    },
    "kernelspec": {
      "name": "python3",
      "display_name": "Python 3"
    },
    "language_info": {
      "name": "python"
    }
  },
  "cells": [
    {
      "cell_type": "markdown",
      "metadata": {
        "id": "view-in-github",
        "colab_type": "text"
      },
      "source": [
        "<a href=\"https://colab.research.google.com/github/Gopika-S-Nair/Basic-Python-Programs/blob/main/How_many_years_left.ipynb\" target=\"_parent\"><img src=\"https://colab.research.google.com/assets/colab-badge.svg\" alt=\"Open In Colab\"/></a>"
      ]
    },
    {
      "cell_type": "markdown",
      "source": [
        "#Python program to find how long you have to live"
      ],
      "metadata": {
        "id": "XUpfc3MB8jpz"
      }
    },
    {
      "cell_type": "code",
      "source": [
        "age = int(input('Enter your age : '))\n",
        "\n",
        "remaining_years = 85 - age\n",
        "\n",
        "days = remaining_years * 365\n",
        "weeks = remaining_years * 52\n",
        "months = remaining_years * 12\n",
        "\n",
        "print(f\"You have {remaining_years} years, {months} months, {weeks} weeks and {days} days left on earth.\")"
      ],
      "metadata": {
        "colab": {
          "base_uri": "https://localhost:8080/"
        },
        "id": "iNiT8UfY8Z7S",
        "outputId": "d819d89e-dc24-4264-d227-37a092276976"
      },
      "execution_count": 4,
      "outputs": [
        {
          "output_type": "stream",
          "name": "stdout",
          "text": [
            "Enter your age : 50\n",
            "You have 35 years, 420 months, 1820 weeks and 12775 days left on earth.\n"
          ]
        }
      ]
    }
  ]
}