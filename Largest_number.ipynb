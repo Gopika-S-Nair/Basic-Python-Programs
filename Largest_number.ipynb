{
  "nbformat": 4,
  "nbformat_minor": 0,
  "metadata": {
    "colab": {
      "provenance": []
    },
    "kernelspec": {
      "name": "python3",
      "display_name": "Python 3"
    },
    "language_info": {
      "name": "python"
    }
  },
  "cells": [
    {
      "cell_type": "markdown",
      "source": [
        "**Finding the largest number**\n",
        "\n",
        "We will find the largest number using if, elif,else."
      ],
      "metadata": {
        "id": "q8AmF17RRsp_"
      }
    },
    {
      "cell_type": "code",
      "source": [
        "# declaring three values\n",
        "\n",
        "a = 5\n",
        "b = 6\n",
        "c = 8\n",
        "\n",
        "if a>b and a>c:\n",
        "  largest_num = a\n",
        "elif b>c and b>a:\n",
        "  largest_num = b\n",
        "else:\n",
        "  largest_num = c\n",
        "\n",
        "#printing output\n",
        "\n",
        "print('Largest among the three numbers = ', largest_num)"
      ],
      "metadata": {
        "colab": {
          "base_uri": "https://localhost:8080/"
        },
        "id": "gMnsu39ER9H0",
        "outputId": "027d40d5-ba65-4d98-d8f9-e9dc20b1897c"
      },
      "execution_count": 3,
      "outputs": [
        {
          "output_type": "stream",
          "name": "stdout",
          "text": [
            "Largest among the three numbers =  8\n"
          ]
        }
      ]
    },
    {
      "cell_type": "code",
      "execution_count": 5,
      "metadata": {
        "colab": {
          "base_uri": "https://localhost:8080/"
        },
        "id": "_LMWxeUHRpud",
        "outputId": "c7728afe-b579-43fe-f956-b4c1d0fcd366"
      },
      "outputs": [
        {
          "output_type": "stream",
          "name": "stdout",
          "text": [
            "Enter a num = 4\n",
            "Enter a num = 5\n",
            "Enter a num = 6\n",
            "Largest number =  6\n"
          ]
        }
      ],
      "source": [
        "# getting inputs from the user\n",
        "\n",
        "num1 = int(input('Enter a num = '))\n",
        "num2 = int(input('Enter a num = '))\n",
        "num3 = int(input('Enter a num = '))\n",
        "\n",
        "if num1>num2 and num1>num3:\n",
        "  largest = num1\n",
        "elif num2>num1 and num2>num3:\n",
        "  largest = num2\n",
        "else:\n",
        "  largest = num3\n",
        "\n",
        "# printing output\n",
        "\n",
        "print('Largest number = ', largest)"
      ]
    }
  ]
}