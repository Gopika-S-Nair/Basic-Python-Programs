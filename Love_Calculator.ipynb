{
  "nbformat": 4,
  "nbformat_minor": 0,
  "metadata": {
    "colab": {
      "provenance": [],
      "authorship_tag": "ABX9TyMXkx+v+rjsqhYV5is082Um",
      "include_colab_link": true
    },
    "kernelspec": {
      "name": "python3",
      "display_name": "Python 3"
    },
    "language_info": {
      "name": "python"
    }
  },
  "cells": [
    {
      "cell_type": "markdown",
      "metadata": {
        "id": "view-in-github",
        "colab_type": "text"
      },
      "source": [
        "<a href=\"https://colab.research.google.com/github/Gopika-S-Nair/Basic-Python-Programs/blob/main/Love_Calculator.ipynb\" target=\"_parent\"><img src=\"https://colab.research.google.com/assets/colab-badge.svg\" alt=\"Open In Colab\"/></a>"
      ]
    },
    {
      "cell_type": "markdown",
      "source": [
        "#Python program for \"Love Calculator\"\n",
        "\n",
        " - The program takes the input of two names and counts the number of times the letters T,R,U,E,L,O,V, and E appear in both names.\n",
        "\n",
        " - TRUE will add up to one digit and LOVE will add up to another.Now we want to combine the two digits together to make a larger number.\n",
        "\n",
        " - An example could be if the sum gives 5 for true and 9 for love, the score together would become 59."
      ],
      "metadata": {
        "id": "ysq2WMGJKqm4"
      }
    },
    {
      "cell_type": "code",
      "execution_count": 3,
      "metadata": {
        "colab": {
          "base_uri": "https://localhost:8080/"
        },
        "id": "KEPKsOJhKEp7",
        "outputId": "5d8b6287-d3e4-4d36-b793-056b0169ea09"
      },
      "outputs": [
        {
          "output_type": "stream",
          "name": "stdout",
          "text": [
            "Enter your name : Ananya Pandey\n",
            "Enter your partner's name : Ranbeer Kapoor\n",
            "Your Love Score is 65. You guys are a match!\n"
          ]
        }
      ],
      "source": [
        "#Getting names as input from user\n",
        "name1 = input('Enter your name : ')\n",
        "name2 = input(\"Enter your partner's name : \")\n",
        "\n",
        "#combining both strings to convert to lower case\n",
        "combined_name = name1 + name2\n",
        "\n",
        "lower_case = combined_name.lower()\n",
        "\n",
        "#counting the number of times TRUE LOVE alphabets are there\n",
        "t = lower_case.count('t')\n",
        "r = lower_case.count('r')\n",
        "u = lower_case.count('u')\n",
        "e = lower_case.count('e')\n",
        "\n",
        "#count gives int result so we can add them to find both digits\n",
        "true = t + r + u + e\n",
        "\n",
        "l = lower_case.count('l')\n",
        "o = lower_case.count('o')\n",
        "v = lower_case.count('v')\n",
        "e = lower_case.count('e')\n",
        "\n",
        "love = l + o + v + e\n",
        "\n",
        "#convert to string to perform concatenation\n",
        "true_love_score = str(true) + str(love)\n",
        "\n",
        "#convert to int to use >, <, etc\n",
        "true_love_score = int(true_love_score)\n",
        "\n",
        "#Condition for the scores\n",
        "\n",
        "if true_love_score >=71:\n",
        "  print(f'Your Love Score is {true_love_score}. You are meant to be together!!!')\n",
        "\n",
        "elif true_love_score >=50 and true_love_score <=70:\n",
        "  print(f'Your Love Score is {true_love_score}. You guys are a match!')\n",
        "\n",
        "elif true_love_score >=30 and true_love_score <=49:\n",
        "  print(f'Your Love Score is {true_love_score}. You might need a lot of luck. Best of luck!')\n",
        "\n",
        "elif true_love_score <=29:\n",
        "  print(f'Your Love Score is {true_love_score}. Good luck :)')"
      ]
    }
  ]
}