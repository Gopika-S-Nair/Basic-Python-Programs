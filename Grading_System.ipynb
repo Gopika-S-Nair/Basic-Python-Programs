{
  "nbformat": 4,
  "nbformat_minor": 0,
  "metadata": {
    "colab": {
      "provenance": [],
      "authorship_tag": "ABX9TyNZ1eYWESjsZFRurX6Sf0kt",
      "include_colab_link": true
    },
    "kernelspec": {
      "name": "python3",
      "display_name": "Python 3"
    },
    "language_info": {
      "name": "python"
    }
  },
  "cells": [
    {
      "cell_type": "markdown",
      "metadata": {
        "id": "view-in-github",
        "colab_type": "text"
      },
      "source": [
        "<a href=\"https://colab.research.google.com/github/Gopika-S-Nair/Basic-Python-Programs/blob/main/Grading_System.ipynb\" target=\"_parent\"><img src=\"https://colab.research.google.com/assets/colab-badge.svg\" alt=\"Open In Colab\"/></a>"
      ]
    },
    {
      "cell_type": "markdown",
      "source": [
        "#Python program to find grades based on marks"
      ],
      "metadata": {
        "id": "AxHcvWeDHpJ5"
      }
    },
    {
      "cell_type": "code",
      "execution_count": 12,
      "metadata": {
        "colab": {
          "base_uri": "https://localhost:8080/"
        },
        "id": "mSBo2NgYCcMx",
        "outputId": "8e44c7be-e819-48a8-cc07-ec60b778dc2c"
      },
      "outputs": [
        {
          "output_type": "stream",
          "name": "stdout",
          "text": [
            "Enter subject1 mark: 100\n",
            "Enter subject2 mark: 99\n",
            "Enter subject3 mark: 98\n",
            "Enter subject4 mark: 97\n",
            "Enter subject5 mark: 89\n",
            "Your average is : 97\n",
            "Your grade is O\n"
          ]
        }
      ],
      "source": [
        "sub1 = int(input('Enter subject1 mark: '))\n",
        "sub2 = int(input('Enter subject2 mark: '))\n",
        "sub3 = int(input('Enter subject3 mark: '))\n",
        "sub4 = int(input('Enter subject4 mark: '))\n",
        "sub5 = int(input('Enter subject5 mark: '))\n",
        "\n",
        "\n",
        "average = (sub1+sub2+sub3+sub4+sub5)/5\n",
        "\n",
        "print(f'Your average is : {round(average)}')\n",
        "\n",
        "\n",
        "if average>=90:\n",
        "  print(f'Your grade is O')\n",
        "\n",
        "elif average>=80 and average<90:\n",
        "  print(f'Your grade is A+')\n",
        "\n",
        "elif average>=70 and average<80:\n",
        "  print(f'Your grade is A')\n",
        "\n",
        "elif average>=60 and average<70:\n",
        "  print(f'Your grade is B+')\n",
        "\n",
        "elif average>=50 and average<60:\n",
        "  print(f'Your grade is B')\n",
        "\n",
        "else:\n",
        "  print(f'Your grade is F')"
      ]
    }
  ]
}