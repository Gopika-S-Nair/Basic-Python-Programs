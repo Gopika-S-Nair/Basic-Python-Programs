{
  "nbformat": 4,
  "nbformat_minor": 0,
  "metadata": {
    "colab": {
      "provenance": []
    },
    "kernelspec": {
      "name": "python3",
      "display_name": "Python 3"
    },
    "language_info": {
      "name": "python"
    }
  },
  "cells": [
    {
      "cell_type": "markdown",
      "source": [
        "**String Concatenation**\n",
        "\n",
        "To concatenate (combine) two strings you can use the + operator."
      ],
      "metadata": {
        "id": "8sgqI8YDMl2I"
      }
    },
    {
      "cell_type": "code",
      "execution_count": 1,
      "metadata": {
        "colab": {
          "base_uri": "https://localhost:8080/"
        },
        "id": "wzfpsPQeMk60",
        "outputId": "82208a11-5bb5-42be-d5a7-71f5080984e4"
      },
      "outputs": [
        {
          "output_type": "stream",
          "name": "stdout",
          "text": [
            "Concatenated string =  pythonprogramming\n"
          ]
        }
      ],
      "source": [
        "a1 = 'python'\n",
        "b1 = 'programming'\n",
        "\n",
        "c1 = print('Concatenated string = ', a1 + b1)"
      ]
    },
    {
      "cell_type": "markdown",
      "source": [
        "To print the output with a space, add a \" \" between them."
      ],
      "metadata": {
        "id": "W2ur5LTUPpMI"
      }
    },
    {
      "cell_type": "code",
      "source": [
        "a2 = 'python'\n",
        "b2 = 'programming'\n",
        "\n",
        "c2 = print('Concatenated string = ', a2 + \" \" + b2)"
      ],
      "metadata": {
        "colab": {
          "base_uri": "https://localhost:8080/"
        },
        "id": "eYLtZl6NPoav",
        "outputId": "146a1a14-7ed0-4e72-81aa-bba1b5859469"
      },
      "execution_count": 2,
      "outputs": [
        {
          "output_type": "stream",
          "name": "stdout",
          "text": [
            "Concatenated string =  python programming\n"
          ]
        }
      ]
    },
    {
      "cell_type": "markdown",
      "source": [
        "To print an autput with a special character between them use \"#\""
      ],
      "metadata": {
        "id": "BKV6V_N9QiBL"
      }
    },
    {
      "cell_type": "code",
      "source": [
        "a3 = 'python'\n",
        "b3 = 'programming'\n",
        "\n",
        "c3 = print('Concatenated string = ', a3 + \"-\" + b3)"
      ],
      "metadata": {
        "colab": {
          "base_uri": "https://localhost:8080/"
        },
        "id": "GbIzVlvGQrX3",
        "outputId": "0bbd7f4a-ea37-4551-f1e0-5e646fd8915f"
      },
      "execution_count": 4,
      "outputs": [
        {
          "output_type": "stream",
          "name": "stdout",
          "text": [
            "Concatenated string =  python-programming\n"
          ]
        }
      ]
    }
  ]
}