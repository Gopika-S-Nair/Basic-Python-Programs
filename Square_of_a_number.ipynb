{
  "nbformat": 4,
  "nbformat_minor": 0,
  "metadata": {
    "colab": {
      "provenance": [],
      "authorship_tag": "ABX9TyNs201vWBROwQGW9Tz0IsDE",
      "include_colab_link": true
    },
    "kernelspec": {
      "name": "python3",
      "display_name": "Python 3"
    },
    "language_info": {
      "name": "python"
    }
  },
  "cells": [
    {
      "cell_type": "markdown",
      "metadata": {
        "id": "view-in-github",
        "colab_type": "text"
      },
      "source": [
        "<a href=\"https://colab.research.google.com/github/Gopika-S-Nair/Basic-Python-Programs/blob/main/Square_of_a_number.ipynb\" target=\"_parent\"><img src=\"https://colab.research.google.com/assets/colab-badge.svg\" alt=\"Open In Colab\"/></a>"
      ]
    },
    {
      "cell_type": "code",
      "source": [
        "a = int(input('Enter a number : '))\n",
        "square = a * a\n",
        "print(\"Square of \", a , \"is \", square)"
      ],
      "metadata": {
        "colab": {
          "base_uri": "https://localhost:8080/"
        },
        "id": "8ZjrH32AkVsi",
        "outputId": "084dd176-5834-42c6-9f14-ba59cf7f30d1"
      },
      "execution_count": 4,
      "outputs": [
        {
          "output_type": "stream",
          "name": "stdout",
          "text": [
            "Enter a number : 5\n",
            "Square of  5 is  25\n"
          ]
        }
      ]
    },
    {
      "cell_type": "markdown",
      "source": [
        "# Using function to find the square of a number"
      ],
      "metadata": {
        "id": "AAaO3zYplboO"
      }
    },
    {
      "cell_type": "code",
      "source": [
        "#defining a function\n",
        "\n",
        "def findsquare(x):\n",
        "  answer = x * x\n",
        "  return answer"
      ],
      "metadata": {
        "id": "Nafvn4Ujk23D"
      },
      "execution_count": 8,
      "outputs": []
    },
    {
      "cell_type": "code",
      "source": [
        "findsquare(3)"
      ],
      "metadata": {
        "colab": {
          "base_uri": "https://localhost:8080/"
        },
        "id": "mNGJWVSHlKwp",
        "outputId": "061c3a40-11e9-410b-cd00-5f1fbb34ae97"
      },
      "execution_count": 6,
      "outputs": [
        {
          "output_type": "execute_result",
          "data": {
            "text/plain": [
              "9"
            ]
          },
          "metadata": {},
          "execution_count": 6
        }
      ]
    },
    {
      "cell_type": "markdown",
      "source": [
        "#Using map function"
      ],
      "metadata": {
        "id": "HjUP0jEGlitL"
      }
    },
    {
      "cell_type": "code",
      "source": [
        "#defining a function\n",
        "\n",
        "def Square(n):\n",
        "    return n*n\n",
        "\n",
        "numbers = (1, 2, 3, 4)\n",
        "result = map(Square, numbers)         # function will be applied to each value(iterables) in the object\n",
        "print(result)\n",
        "\n",
        "# converting map object to set or list or tuple\n",
        "#answer = set(result)\n",
        "answer = list(result)\n",
        "#answer = tuple(result)\n",
        "print(answer)\n"
      ],
      "metadata": {
        "colab": {
          "base_uri": "https://localhost:8080/"
        },
        "id": "TyWXVkUfio58",
        "outputId": "9b1eda31-09a4-4d48-9f04-a07f6fa77198"
      },
      "execution_count": 3,
      "outputs": [
        {
          "output_type": "stream",
          "name": "stdout",
          "text": [
            "<map object at 0x7c58b348f550>\n",
            "[1, 4, 9, 16]\n"
          ]
        }
      ]
    },
    {
      "cell_type": "code",
      "source": [],
      "metadata": {
        "id": "-cKKE0JTio8t"
      },
      "execution_count": null,
      "outputs": []
    },
    {
      "cell_type": "code",
      "source": [],
      "metadata": {
        "id": "RoU-by7gipAL"
      },
      "execution_count": null,
      "outputs": []
    }
  ]
}