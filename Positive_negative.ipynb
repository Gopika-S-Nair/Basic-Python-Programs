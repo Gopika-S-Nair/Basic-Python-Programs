{
  "nbformat": 4,
  "nbformat_minor": 0,
  "metadata": {
    "colab": {
      "provenance": []
    },
    "kernelspec": {
      "name": "python3",
      "display_name": "Python 3"
    },
    "language_info": {
      "name": "python"
    }
  },
  "cells": [
    {
      "cell_type": "markdown",
      "source": [
        "**Positive-Negative**\n",
        "\n",
        "Let's use if, else to find out if a number entered id positive or negative."
      ],
      "metadata": {
        "id": "w-TREUuNac0v"
      }
    },
    {
      "cell_type": "code",
      "execution_count": 1,
      "metadata": {
        "colab": {
          "base_uri": "https://localhost:8080/"
        },
        "id": "WOhJoVinabWi",
        "outputId": "d13dc541-0ee8-4a0d-83f6-9afa735761a1"
      },
      "outputs": [
        {
          "output_type": "stream",
          "name": "stdout",
          "text": [
            "7\n",
            "Positive\n"
          ]
        }
      ],
      "source": [
        "# getting input from the user\n",
        "\n",
        "number = int(input())\n",
        "\n",
        "#condition\n",
        "\n",
        "if number == 0:\n",
        "  print('Zero')\n",
        "elif number > 0:\n",
        "  print('Positive')\n",
        "else:\n",
        "  print('Negative')"
      ]
    }
  ]
}