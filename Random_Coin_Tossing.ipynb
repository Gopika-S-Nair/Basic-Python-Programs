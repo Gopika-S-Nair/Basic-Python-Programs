{
  "nbformat": 4,
  "nbformat_minor": 0,
  "metadata": {
    "colab": {
      "provenance": [],
      "authorship_tag": "ABX9TyNwYXw+AXYHPougcw+rwkfN",
      "include_colab_link": true
    },
    "kernelspec": {
      "name": "python3",
      "display_name": "Python 3"
    },
    "language_info": {
      "name": "python"
    }
  },
  "cells": [
    {
      "cell_type": "markdown",
      "metadata": {
        "id": "view-in-github",
        "colab_type": "text"
      },
      "source": [
        "<a href=\"https://colab.research.google.com/github/Gopika-S-Nair/Basic-Python-Programs/blob/main/Random_Coin_Tossing.ipynb\" target=\"_parent\"><img src=\"https://colab.research.google.com/assets/colab-badge.svg\" alt=\"Open In Colab\"/></a>"
      ]
    },
    {
      "cell_type": "markdown",
      "source": [
        "#Python program for coin tossing using random module\n"
      ],
      "metadata": {
        "id": "IWPH2suQVAUH"
      }
    },
    {
      "cell_type": "code",
      "execution_count": 5,
      "metadata": {
        "colab": {
          "base_uri": "https://localhost:8080/"
        },
        "id": "34kZhuECU_d5",
        "outputId": "ff06e06c-0df5-4256-ac28-ca7459ba5053"
      },
      "outputs": [
        {
          "output_type": "stream",
          "name": "stdout",
          "text": [
            "1\n",
            "Heads\n"
          ]
        }
      ],
      "source": [
        "\n",
        "import random\n",
        "\n",
        "#0 - heads, 1 - tails\n",
        "side = random.randint(0,1)\n",
        "\n",
        "print(side)\n",
        "\n",
        "if side == 1:\n",
        "  print('Heads')\n",
        "else :\n",
        "  print('Tails')"
      ]
    }
  ]
}