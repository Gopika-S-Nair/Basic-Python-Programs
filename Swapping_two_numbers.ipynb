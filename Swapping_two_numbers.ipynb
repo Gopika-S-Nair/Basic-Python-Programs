{
  "nbformat": 4,
  "nbformat_minor": 0,
  "metadata": {
    "colab": {
      "provenance": []
    },
    "kernelspec": {
      "name": "python3",
      "display_name": "Python 3"
    },
    "language_info": {
      "name": "python"
    }
  },
  "cells": [
    {
      "cell_type": "markdown",
      "source": [
        "**Python program to swap two variables**\n",
        "\n",
        "In this program we will swap two numbers using two methods."
      ],
      "metadata": {
        "id": "euHPob8oXIhP"
      }
    },
    {
      "cell_type": "code",
      "source": [
        "# swapping using temp\n",
        "#getting input from the user\n",
        "\n",
        "a = input('Enter First Number: ')\n",
        "b = input('Enter Second Number: ')\n",
        "\n",
        "print(\"Value of number1 before swapping: \", a)\n",
        "print(\"Value of number2 before swapping: \", b)\n",
        "\n",
        "#put a in temp variable\n",
        "\n",
        "temp = a\n",
        "\n",
        "#swapping\n",
        "\n",
        "a = b\n",
        "b = temp\n",
        "\n",
        "#output printing\n",
        "\n",
        "print(\"Value of number1 after swapping: \", a)\n",
        "print(\"Value of number2 after swapping: \", b)"
      ],
      "metadata": {
        "colab": {
          "base_uri": "https://localhost:8080/"
        },
        "id": "0SsoHJ_fVa2D",
        "outputId": "47509974-a6ce-47b9-94c2-f5981edcf55e"
      },
      "execution_count": 1,
      "outputs": [
        {
          "output_type": "stream",
          "name": "stdout",
          "text": [
            "Enter First Number: 5\n",
            "Enter Second Number: 6\n",
            "Value of number1 before swapping:  5\n",
            "Value of number2 before swapping:  6\n",
            "Value of number1 after swapping:  6\n",
            "Value of number2 after swapping:  5\n"
          ]
        }
      ]
    },
    {
      "cell_type": "code",
      "source": [
        "#second method\n",
        "\n",
        "x = int(input(\"Enter x : \"))\n",
        "y = int(input(\"Enter y : \"))\n",
        "\n",
        "print(\"Before swapping X = \", x)\n",
        "print(\"Before swapping Y = \", y)\n",
        "\n",
        "\n",
        "x,y = y,x\n",
        "print(\"After swapping X = \", x)\n",
        "print(\"After swapping Y = \", y)"
      ],
      "metadata": {
        "colab": {
          "base_uri": "https://localhost:8080/"
        },
        "id": "-sJwhpGfYeR7",
        "outputId": "92afcee4-5645-4dda-da47-56db1376a3fd"
      },
      "execution_count": 3,
      "outputs": [
        {
          "output_type": "stream",
          "name": "stdout",
          "text": [
            "Enter x : 4\n",
            "Enter y : 5\n",
            "Before swapping X =  4\n",
            "Before swapping Y =  5\n",
            "After swapping X =  5\n",
            "After swapping Y =  4\n"
          ]
        }
      ]
    }
  ]
}