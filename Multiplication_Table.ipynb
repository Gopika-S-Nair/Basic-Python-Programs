{
  "nbformat": 4,
  "nbformat_minor": 0,
  "metadata": {
    "colab": {
      "provenance": [],
      "authorship_tag": "ABX9TyONfg1SX3wh/zMxLNzeeACO",
      "include_colab_link": true
    },
    "kernelspec": {
      "name": "python3",
      "display_name": "Python 3"
    },
    "language_info": {
      "name": "python"
    }
  },
  "cells": [
    {
      "cell_type": "markdown",
      "metadata": {
        "id": "view-in-github",
        "colab_type": "text"
      },
      "source": [
        "<a href=\"https://colab.research.google.com/github/Gopika-S-Nair/Basic-Python-Programs/blob/main/Multiplication_Table.ipynb\" target=\"_parent\"><img src=\"https://colab.research.google.com/assets/colab-badge.svg\" alt=\"Open In Colab\"/></a>"
      ]
    },
    {
      "cell_type": "markdown",
      "source": [
        "**MULTIPLICATION TABLE**\n",
        "\n",
        "We will be using for loop in python here to print out the multiplication table of the number given."
      ],
      "metadata": {
        "id": "KCz_YYQ0glSC"
      }
    },
    {
      "cell_type": "code",
      "source": [
        "#python program to print the multiplication table of a number\n",
        "\n",
        "table = int(input('Show me the multiplication table of : '))\n",
        "\n",
        "\n",
        "for i in range(1,11):\n",
        "  print(i , '  x ',table ,'= ', i*table)"
      ],
      "metadata": {
        "colab": {
          "base_uri": "https://localhost:8080/"
        },
        "id": "ASpiQrRVgo1H",
        "outputId": "517eeb39-d041-4c1d-9b82-cdfede02b5e5"
      },
      "execution_count": null,
      "outputs": [
        {
          "output_type": "stream",
          "name": "stdout",
          "text": [
            "Show me the multiplication table of : 66\n",
            "1   x  66 =  66\n",
            "2   x  66 =  132\n",
            "3   x  66 =  198\n",
            "4   x  66 =  264\n",
            "5   x  66 =  330\n",
            "6   x  66 =  396\n",
            "7   x  66 =  462\n",
            "8   x  66 =  528\n",
            "9   x  66 =  594\n",
            "10   x  66 =  660\n"
          ]
        }
      ]
    },
    {
      "cell_type": "code",
      "source": [
        "def multiplication_table(number, count):\n",
        "    for i in range(1,11):\n",
        "     print(i , '  x ', number ,'= ', i*number)"
      ],
      "metadata": {
        "id": "aEuOvDvYc46J"
      },
      "execution_count": 11,
      "outputs": []
    },
    {
      "cell_type": "code",
      "source": [
        "multiplication_table(9,15)"
      ],
      "metadata": {
        "colab": {
          "base_uri": "https://localhost:8080/"
        },
        "id": "dlXdAP3Uf5bd",
        "outputId": "db1720a6-cca9-47a9-f737-29b2e7aa4d09"
      },
      "execution_count": 12,
      "outputs": [
        {
          "output_type": "stream",
          "name": "stdout",
          "text": [
            "1   x  9 =  9\n",
            "2   x  9 =  18\n",
            "3   x  9 =  27\n",
            "4   x  9 =  36\n",
            "5   x  9 =  45\n",
            "6   x  9 =  54\n",
            "7   x  9 =  63\n",
            "8   x  9 =  72\n",
            "9   x  9 =  81\n",
            "10   x  9 =  90\n"
          ]
        }
      ]
    }
  ]
}