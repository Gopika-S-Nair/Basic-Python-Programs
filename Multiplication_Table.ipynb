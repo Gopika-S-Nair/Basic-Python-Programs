{
  "nbformat": 4,
  "nbformat_minor": 0,
  "metadata": {
    "colab": {
      "provenance": []
    },
    "kernelspec": {
      "name": "python3",
      "display_name": "Python 3"
    },
    "language_info": {
      "name": "python"
    }
  },
  "cells": [
    {
      "cell_type": "markdown",
      "source": [
        "**MULTIPLICATION TABLE**\n",
        "\n",
        "We will be using for loop in python here to print out the multiplication table of the number given."
      ],
      "metadata": {
        "id": "KCz_YYQ0glSC"
      }
    },
    {
      "cell_type": "code",
      "source": [
        "#python program to print the multiplication table of a number\n",
        "\n",
        "table = int(input('Show me the multiplication table of : '))\n",
        "\n",
        "\n",
        "for i in range(1,11):\n",
        "  print(i , '  x ',table ,'= ', i*table)"
      ],
      "metadata": {
        "colab": {
          "base_uri": "https://localhost:8080/"
        },
        "id": "ASpiQrRVgo1H",
        "outputId": "517eeb39-d041-4c1d-9b82-cdfede02b5e5"
      },
      "execution_count": 4,
      "outputs": [
        {
          "output_type": "stream",
          "name": "stdout",
          "text": [
            "Show me the multiplication table of : 66\n",
            "1   x  66 =  66\n",
            "2   x  66 =  132\n",
            "3   x  66 =  198\n",
            "4   x  66 =  264\n",
            "5   x  66 =  330\n",
            "6   x  66 =  396\n",
            "7   x  66 =  462\n",
            "8   x  66 =  528\n",
            "9   x  66 =  594\n",
            "10   x  66 =  660\n"
          ]
        }
      ]
    }
  ]
}