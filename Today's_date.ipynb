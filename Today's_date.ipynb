{
  "nbformat": 4,
  "nbformat_minor": 0,
  "metadata": {
    "colab": {
      "provenance": []
    },
    "kernelspec": {
      "name": "python3",
      "display_name": "Python 3"
    },
    "language_info": {
      "name": "python"
    }
  },
  "cells": [
    {
      "cell_type": "markdown",
      "source": [
        "**TODAYS DATE**\n",
        "\n",
        "Python has an inbuilt module called DateTime module. Let us use the date class from datetime module to find current date."
      ],
      "metadata": {
        "id": "vaPt8Ec7cyt0"
      }
    },
    {
      "cell_type": "code",
      "execution_count": 2,
      "metadata": {
        "colab": {
          "base_uri": "https://localhost:8080/"
        },
        "id": "lyrskg2ycwnO",
        "outputId": "02f5a7eb-301f-411e-de52-40d02fece42f"
      },
      "outputs": [
        {
          "output_type": "stream",
          "name": "stdout",
          "text": [
            "Date =  2024-01-29\n"
          ]
        }
      ],
      "source": [
        "# importing date class from datetime module\n",
        "\n",
        "from datetime import date\n",
        "this_day = date.today()\n",
        "\n",
        "# printing today's date as output\n",
        "\n",
        "print('Date = ', this_day)"
      ]
    }
  ]
}