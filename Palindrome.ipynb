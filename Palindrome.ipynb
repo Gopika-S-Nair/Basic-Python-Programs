{
  "nbformat": 4,
  "nbformat_minor": 0,
  "metadata": {
    "colab": {
      "provenance": []
    },
    "kernelspec": {
      "name": "python3",
      "display_name": "Python 3"
    },
    "language_info": {
      "name": "python"
    }
  },
  "cells": [
    {
      "cell_type": "markdown",
      "source": [
        "**CHECKING STRING PALINDROME**\n",
        "\n",
        "This python program will take its input string from the user and check if it is a palindrome or not a palindrome."
      ],
      "metadata": {
        "id": "gaad8JyWbnEc"
      }
    },
    {
      "cell_type": "code",
      "source": [
        "#getting input from user\n",
        "\n",
        "str = input('Enter a string : ')\n",
        "\n",
        "# condition\n",
        "\n",
        "if str == str[::-1]:\n",
        "  print('Yes the string is a Palindrome')\n",
        "else :\n",
        "  print('No the string is not a  Palindrome')"
      ],
      "metadata": {
        "colab": {
          "base_uri": "https://localhost:8080/"
        },
        "id": "s-gP-zEbtJC2",
        "outputId": "9dd2b78e-76e0-48ba-ff10-2c8ef4834390"
      },
      "execution_count": 1,
      "outputs": [
        {
          "output_type": "stream",
          "name": "stdout",
          "text": [
            "Enter a string : malayalam\n",
            "Yes the string is a Palindrome\n"
          ]
        }
      ]
    },
    {
      "cell_type": "markdown",
      "source": [
        "**CREATING A FUNCTION TO CHECK PALINDROME**"
      ],
      "metadata": {
        "id": "uO7dnQmnchYl"
      }
    },
    {
      "cell_type": "code",
      "source": [
        "def palindrome(str):\n",
        "  if str == str[::-1]:\n",
        "    return \"This string is a palindrome\"\n",
        "  else:\n",
        "    return \"This string is not a palindrome\"\n",
        "\n",
        "palindrome(\"dad\")"
      ],
      "metadata": {
        "id": "CS7Yd5ywaMR3",
        "colab": {
          "base_uri": "https://localhost:8080/",
          "height": 35
        },
        "outputId": "def045fa-bba7-4ddb-c408-89dedfc8b4d1"
      },
      "execution_count": 3,
      "outputs": [
        {
          "output_type": "execute_result",
          "data": {
            "text/plain": [
              "'This string is a palindrome'"
            ],
            "application/vnd.google.colaboratory.intrinsic+json": {
              "type": "string"
            }
          },
          "metadata": {},
          "execution_count": 3
        }
      ]
    }
  ]
}