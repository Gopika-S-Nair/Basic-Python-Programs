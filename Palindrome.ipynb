{
  "nbformat": 4,
  "nbformat_minor": 0,
  "metadata": {
    "colab": {
      "provenance": [],
      "authorship_tag": "ABX9TyNdXudkv3kFePGDyifZ8Nt7",
      "include_colab_link": true
    },
    "kernelspec": {
      "name": "python3",
      "display_name": "Python 3"
    },
    "language_info": {
      "name": "python"
    }
  },
  "cells": [
    {
      "cell_type": "markdown",
      "metadata": {
        "id": "view-in-github",
        "colab_type": "text"
      },
      "source": [
        "<a href=\"https://colab.research.google.com/github/Gopika-S-Nair/Basic-Python-Programs/blob/main/Palindrome.ipynb\" target=\"_parent\"><img src=\"https://colab.research.google.com/assets/colab-badge.svg\" alt=\"Open In Colab\"/></a>"
      ]
    },
    {
      "cell_type": "code",
      "execution_count": 11,
      "metadata": {
        "colab": {
          "base_uri": "https://localhost:8080/"
        },
        "id": "5WOvn3moVTnN",
        "outputId": "2db4a822-5793-406c-d200-f2b118e9779f"
      },
      "outputs": [
        {
          "output_type": "stream",
          "name": "stdout",
          "text": [
            "Enter a string : 111\n",
            "Yes the string is a Palindrome\n"
          ]
        }
      ],
      "source": [
        "#getting input from user\n",
        "\n",
        "string = input('Enter a string : ')\n",
        "\n",
        "# condition\n",
        "\n",
        "if string == string[::-1]:\n",
        "  print('Yes the string is a Palindrome')\n",
        "else :\n",
        "  print('No the string is not a  Palindrome')\n"
      ]
    },
    {
      "cell_type": "code",
      "source": [
        "def palindrome(string):\n",
        "  if string == string[::-1]:\n",
        "    return \"This string is a palindrome\"\n",
        "  else:\n",
        "    return \"This string is not a palindrome\"\n",
        "\n",
        "palindrome(\"dad\")"
      ],
      "metadata": {
        "colab": {
          "base_uri": "https://localhost:8080/",
          "height": 36
        },
        "id": "NCGEIhUMciR3",
        "outputId": "bfdd3c88-4fd4-4b0c-a9a3-faba597e4b63"
      },
      "execution_count": 12,
      "outputs": [
        {
          "output_type": "execute_result",
          "data": {
            "text/plain": [
              "'This string is a palindrome'"
            ],
            "application/vnd.google.colaboratory.intrinsic+json": {
              "type": "string"
            }
          },
          "metadata": {},
          "execution_count": 12
        }
      ]
    },
    {
      "cell_type": "code",
      "source": [
        "#palindrome for int\n",
        "a = int(input('Enter a number : '))\n",
        "converted_a = \"% s\" % a\n",
        "type(a)\n",
        "\n",
        "if converted_a == converted_a[::-1]:\n",
        "  print(\"Yes Palindrome\")\n",
        "else:\n",
        "  print('Not palindrome')"
      ],
      "metadata": {
        "colab": {
          "base_uri": "https://localhost:8080/"
        },
        "id": "4Z8gJthucs0M",
        "outputId": "34f8dc80-a589-42b4-81c2-dbd70e6d9904"
      },
      "execution_count": 17,
      "outputs": [
        {
          "output_type": "stream",
          "name": "stdout",
          "text": [
            "Enter a number : 1122443\n",
            "Not palindrome\n"
          ]
        }
      ]
    }
  ]
}