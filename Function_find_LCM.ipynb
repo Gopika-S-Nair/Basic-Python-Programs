{
  "nbformat": 4,
  "nbformat_minor": 0,
  "metadata": {
    "colab": {
      "provenance": [],
      "authorship_tag": "ABX9TyP5XYFft1ah17RnVyStgxgN",
      "include_colab_link": true
    },
    "kernelspec": {
      "name": "python3",
      "display_name": "Python 3"
    },
    "language_info": {
      "name": "python"
    }
  },
  "cells": [
    {
      "cell_type": "markdown",
      "metadata": {
        "id": "view-in-github",
        "colab_type": "text"
      },
      "source": [
        "<a href=\"https://colab.research.google.com/github/Gopika-S-Nair/Basic-Python-Programs/blob/main/Function_find_LCM.ipynb\" target=\"_parent\"><img src=\"https://colab.research.google.com/assets/colab-badge.svg\" alt=\"Open In Colab\"/></a>"
      ]
    },
    {
      "cell_type": "markdown",
      "source": [
        "# FUNCTION TO FIND LCM OF TWO NUMBERS\n",
        "\n",
        "The least common multiple (LCM) of two numbers is the smallest positive integer that is perfectly divisible by the two given numbers.\n",
        "\n",
        "For example, LCM of 2, 3 = 6\n",
        "\n",
        "6 is the least positive integer which is perfectly divisible by both 2 and 3."
      ],
      "metadata": {
        "id": "7eJ-u1sAEoKg"
      }
    },
    {
      "cell_type": "code",
      "source": [
        "# creating a function to find LCM\n",
        "\n",
        "def compute_lcm(x, y):\n",
        "\n",
        "   # choose the greater number\n",
        "   if x > y:\n",
        "        greater = x\n",
        "   else:\n",
        "        greater = y\n",
        "\n",
        "   while True:\n",
        "        if((greater % x == 0) and (greater % y == 0)):\n",
        "            lcm = greater\n",
        "            break\n",
        "        greater += 1\n",
        "\n",
        "   return print(\"L.C.M. of\", x, \"and\", y,  \"is :\",lcm)\n",
        "\n",
        "#num1 = int(input(\"Enter firs number : \"))\n",
        "#num2 = int(input('Enter second number : '))\n",
        "\n",
        "#print(\"L.C.M. of\", num1, \"and\", num2,  \"is:\", compute_lcm(num1, num2))"
      ],
      "metadata": {
        "id": "x-I3ro5LFTyU"
      },
      "execution_count": 5,
      "outputs": []
    },
    {
      "cell_type": "code",
      "source": [
        "compute_lcm(66,12)"
      ],
      "metadata": {
        "colab": {
          "base_uri": "https://localhost:8080/"
        },
        "id": "7gAsoVjmGiFu",
        "outputId": "3a6f0875-a4db-4924-c81d-e25a31546595"
      },
      "execution_count": 7,
      "outputs": [
        {
          "output_type": "stream",
          "name": "stdout",
          "text": [
            "L.C.M. of 66 and 12 is : 132\n"
          ]
        }
      ]
    }
  ]
}