{
  "nbformat": 4,
  "nbformat_minor": 0,
  "metadata": {
    "colab": {
      "provenance": [],
      "authorship_tag": "ABX9TyNTerxv+Bn78MWMjMtY4fkn",
      "include_colab_link": true
    },
    "kernelspec": {
      "name": "python3",
      "display_name": "Python 3"
    },
    "language_info": {
      "name": "python"
    }
  },
  "cells": [
    {
      "cell_type": "markdown",
      "metadata": {
        "id": "view-in-github",
        "colab_type": "text"
      },
      "source": [
        "<a href=\"https://colab.research.google.com/github/Gopika-S-Nair/Basic-Python-Programs/blob/main/Largest_Number.ipynb\" target=\"_parent\"><img src=\"https://colab.research.google.com/assets/colab-badge.svg\" alt=\"Open In Colab\"/></a>"
      ]
    },
    {
      "cell_type": "markdown",
      "source": [
        "#Python program to check which is the largest number\n",
        "\n"
      ],
      "metadata": {
        "id": "kh1EJvw8tUZo"
      }
    },
    {
      "cell_type": "code",
      "execution_count": 1,
      "metadata": {
        "colab": {
          "base_uri": "https://localhost:8080/"
        },
        "id": "Iqi3TC-gs8SD",
        "outputId": "4fbe78e2-e9e2-444d-b74d-293b823759ef"
      },
      "outputs": [
        {
          "output_type": "stream",
          "name": "stdout",
          "text": [
            "Enter the first number - 6\n",
            "Enter the second number - 7\n",
            "Enter the third number - 8\n",
            "The largest number is  8\n"
          ]
        }
      ],
      "source": [
        "num1 = int(input(\"Enter the first number - \"))\n",
        "num2 = int(input(\"Enter the second number - \"))\n",
        "num3 = int(input(\"Enter the third number - \"))\n",
        "\n",
        "if(num1 >= num2) and (num1 >= num3):\n",
        "   largest = num1\n",
        "elif(num2 >= num3) and (num2 >= num1):\n",
        "   largest = num2\n",
        "else:\n",
        "   largest = num3\n",
        "\n",
        "print(\"The largest number is \", largest)"
      ]
    }
  ]
}