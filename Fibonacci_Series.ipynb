{
  "nbformat": 4,
  "nbformat_minor": 0,
  "metadata": {
    "colab": {
      "provenance": [],
      "authorship_tag": "ABX9TyM+8FLjlEg0YD+dY53GYmcH",
      "include_colab_link": true
    },
    "kernelspec": {
      "name": "python3",
      "display_name": "Python 3"
    },
    "language_info": {
      "name": "python"
    }
  },
  "cells": [
    {
      "cell_type": "markdown",
      "metadata": {
        "id": "view-in-github",
        "colab_type": "text"
      },
      "source": [
        "<a href=\"https://colab.research.google.com/github/Gopika-S-Nair/Basic-Python-Programs/blob/main/Fibonacci_Series.ipynb\" target=\"_parent\"><img src=\"https://colab.research.google.com/assets/colab-badge.svg\" alt=\"Open In Colab\"/></a>"
      ]
    },
    {
      "cell_type": "markdown",
      "source": [
        "\n",
        "# PROGRAM TO PRINT THE FIBONACCI SEQUENCE:\n",
        "\n",
        "## Fibonacci series is the integer sequence of 0, 1, 1, 2, 3, 5, 8....\n",
        "\n",
        "## The first two terms will be 0 and 1.\n",
        "## Rest of the terms are obtained by adding the preceding two terms.\n",
        "\n",
        "## For example, 6th term = 5 => which is 4th term + 5th term(2+3)"
      ],
      "metadata": {
        "id": "79h53gd85-Cu"
      }
    },
    {
      "cell_type": "markdown",
      "source": [
        "# Using While loop"
      ],
      "metadata": {
        "id": "kn6oJPRb7Uat"
      }
    },
    {
      "cell_type": "code",
      "source": [
        "# Getting input from the user\n",
        "\n",
        "nterms = int(input(\"How many terms do you want to print? \"))\n",
        "\n",
        "# first two terms\n",
        "n1, n2 = 0, 1\n",
        "count = 0\n",
        "\n",
        "# check if the number of terms is valid\n",
        "if nterms <= 0:\n",
        "   print(\"Invalid! Please enter a positive integer.\")\n",
        "\n",
        "\n",
        "# if there is only one term, return n1\n",
        "elif nterms == 1:\n",
        "   print(\"Fibonacci sequence upto\",nterms,\" term :\")\n",
        "   print(n1)\n",
        "\n",
        "\n",
        "# generate fibonacci sequence\n",
        "else:\n",
        "   print(\"Fibonacci sequence upto \", nterms ,\"terms :\")\n",
        "   while count < nterms:\n",
        "       print(n1)\n",
        "       n3 = n1 + n2\n",
        "       # update values\n",
        "       n1 = n2\n",
        "       n2 = n3\n",
        "       count += 1"
      ],
      "metadata": {
        "colab": {
          "base_uri": "https://localhost:8080/"
        },
        "id": "T13dInwU7Nfe",
        "outputId": "d89cf1a7-9e92-4efe-b61b-2470c18d9a6f"
      },
      "execution_count": 27,
      "outputs": [
        {
          "output_type": "stream",
          "name": "stdout",
          "text": [
            "How many terms do you want to print? 15\n",
            "Fibonacci sequence upto  15 terms :\n",
            "0\n",
            "1\n",
            "1\n",
            "2\n",
            "3\n",
            "5\n",
            "8\n",
            "13\n",
            "21\n",
            "34\n",
            "55\n",
            "89\n",
            "144\n",
            "233\n",
            "377\n"
          ]
        }
      ]
    },
    {
      "cell_type": "markdown",
      "source": [
        "# Using For loop"
      ],
      "metadata": {
        "id": "dY3G23vxBJhO"
      }
    },
    {
      "cell_type": "code",
      "source": [
        "# Getting input from the user\n",
        "\n",
        "nterms = int(input(\"How many terms do you want to print? \"))\n",
        "\n",
        "# first two terms\n",
        "n1, n2 = 0, 1\n",
        "\n",
        "# check if the number of terms is valid\n",
        "if nterms <= 0:\n",
        "   print(\"Invalid! Please enter a positive integer.\")\n",
        "\n",
        "\n",
        "# if there is only one term, return n1\n",
        "elif nterms == 1:\n",
        "   print(\"Fibonacci sequence upto\",nterms,\" term :\")\n",
        "   print(n1)\n",
        "\n",
        "\n",
        "# generate fibonacci sequence\n",
        "else:\n",
        "   print(\"Fibonacci sequence upto \", nterms ,\"terms :\\n\",n1,'\\n',n2, end = '\\n')\n",
        "   for i in range(2,nterms):\n",
        "       n3 = n1 + n2\n",
        "\n",
        "       n1 = n2\n",
        "       n2 = n3\n",
        "       print(n3 , end = '\\n')"
      ],
      "metadata": {
        "colab": {
          "base_uri": "https://localhost:8080/"
        },
        "id": "43E6iDbb_x-5",
        "outputId": "d197e2f7-216a-4976-ced3-26889d15b3c1"
      },
      "execution_count": 28,
      "outputs": [
        {
          "output_type": "stream",
          "name": "stdout",
          "text": [
            "How many terms do you want to print? 15\n",
            "Fibonacci sequence upto  15 terms :\n",
            " 0 \n",
            " 1\n",
            "1\n",
            "2\n",
            "3\n",
            "5\n",
            "8\n",
            "13\n",
            "21\n",
            "34\n",
            "55\n",
            "89\n",
            "144\n",
            "233\n",
            "377\n"
          ]
        }
      ]
    }
  ]
}