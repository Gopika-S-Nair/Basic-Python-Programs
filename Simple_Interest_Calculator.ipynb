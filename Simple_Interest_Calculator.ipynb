{
  "nbformat": 4,
  "nbformat_minor": 0,
  "metadata": {
    "colab": {
      "provenance": [],
      "authorship_tag": "ABX9TyP+hOEdT7jOPxKuu6KINMdU",
      "include_colab_link": true
    },
    "kernelspec": {
      "name": "python3",
      "display_name": "Python 3"
    },
    "language_info": {
      "name": "python"
    }
  },
  "cells": [
    {
      "cell_type": "markdown",
      "metadata": {
        "id": "view-in-github",
        "colab_type": "text"
      },
      "source": [
        "<a href=\"https://colab.research.google.com/github/Gopika-S-Nair/Basic-Python-Programs/blob/main/Simple_Interest_Calculator.ipynb\" target=\"_parent\"><img src=\"https://colab.research.google.com/assets/colab-badge.svg\" alt=\"Open In Colab\"/></a>"
      ]
    },
    {
      "cell_type": "markdown",
      "source": [
        "#Python program to find the simple interest\n",
        "\n",
        "To calculate the proportion of interest paid on a sum over a set time period at a set rate. The principal amount remains constant in simple interest.\n",
        "\n",
        "**Formula**\n",
        "\n",
        "si = pnr/100\n",
        "\n",
        "- p - principal amount\n",
        "- n - number of years\n",
        "- r - rate of interest"
      ],
      "metadata": {
        "id": "2QVxSaB8yoye"
      }
    },
    {
      "cell_type": "code",
      "execution_count": 8,
      "metadata": {
        "colab": {
          "base_uri": "https://localhost:8080/"
        },
        "id": "Cg5XbLo5uvVC",
        "outputId": "9036b20c-c723-4ca7-ed24-8e6437c68bfe"
      },
      "outputs": [
        {
          "output_type": "stream",
          "name": "stdout",
          "text": [
            "Enter the principle amount : 700000\n",
            "Enter the number of years : 7\n",
            "Enter the rate of interest : 7\n",
            "The principal is 700000\n",
            "The time period is 7 years\n",
            "The rate of interest is 7.0 %\n",
            "The Simple Interest is  343000.0\n"
          ]
        }
      ],
      "source": [
        "#p - principal, n - number of years, r - rate of interest\n",
        "\n",
        "def simple_interest(p,n,r):\n",
        "    print('The principal is', p)\n",
        "    print('The time period is', n , 'years')\n",
        "    print('The rate of interest is', r , '%')\n",
        "\n",
        "    si = (p * n * r)/100\n",
        "\n",
        "    return si\n",
        "\n",
        "pa = int(input(\"Enter the principle amount : \"))\n",
        "years = int(input(\"Enter the number of years : \"))\n",
        "roi = float(input(\"Enter the rate of interest : \"))\n",
        "\n",
        "print('The Simple Interest is ',simple_interest(pa, years, roi))"
      ]
    }
  ]
}