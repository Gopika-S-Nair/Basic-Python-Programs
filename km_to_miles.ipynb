{
  "nbformat": 4,
  "nbformat_minor": 0,
  "metadata": {
    "colab": {
      "provenance": []
    },
    "kernelspec": {
      "name": "python3",
      "display_name": "Python 3"
    },
    "language_info": {
      "name": "python"
    }
  },
  "cells": [
    {
      "cell_type": "markdown",
      "source": [
        "**KILOMETERS TO MILES**\n",
        "\n",
        "The user will enter the value in Kilometers and we will convert it into Miles by multiplying the entered value with 0.621371 (1 Km = 0.621371 mi.)."
      ],
      "metadata": {
        "id": "mAr9AQ0MaDL7"
      }
    },
    {
      "cell_type": "code",
      "execution_count": 1,
      "metadata": {
        "colab": {
          "base_uri": "https://localhost:8080/"
        },
        "id": "CsQzSctsZ9d6",
        "outputId": "8c854e84-6eb4-49c7-b3d0-b1efd333fd60"
      },
      "outputs": [
        {
          "output_type": "stream",
          "name": "stdout",
          "text": [
            "Enter the value in kilometers: 30\n",
            "The entered value in Miles:  18.64113\n"
          ]
        }
      ],
      "source": [
        "# Program to convert Kilometers to Miles\n",
        "\n",
        "km = float(input(\"Enter the value in kilometers: \"))\n",
        "\n",
        "#1 Kilometre = 0.621371 Mile\n",
        "#Converting km to mi.\n",
        "\n",
        "miles = km * 0.621371\n",
        "\n",
        "print(\"The entered value in Miles: \", miles)"
      ]
    }
  ]
}