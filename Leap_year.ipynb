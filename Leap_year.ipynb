{
  "nbformat": 4,
  "nbformat_minor": 0,
  "metadata": {
    "colab": {
      "provenance": [],
      "authorship_tag": "ABX9TyMH5LmGVslFValGdoCMm+gx",
      "include_colab_link": true
    },
    "kernelspec": {
      "name": "python3",
      "display_name": "Python 3"
    },
    "language_info": {
      "name": "python"
    }
  },
  "cells": [
    {
      "cell_type": "markdown",
      "metadata": {
        "id": "view-in-github",
        "colab_type": "text"
      },
      "source": [
        "<a href=\"https://colab.research.google.com/github/Gopika-S-Nair/Basic-Python-Programs/blob/main/Leap_year.ipynb\" target=\"_parent\"><img src=\"https://colab.research.google.com/assets/colab-badge.svg\" alt=\"Open In Colab\"/></a>"
      ]
    },
    {
      "cell_type": "markdown",
      "source": [
        "- We say that a year is leap year if it is exactly divided by 4.\n",
        "\n",
        "- But in case of century years(1600,1800,1900,2000), we will check if they are divisible by 400. Only then we can say that it is a leap year.\n",
        "\n",
        "- If a year is divisible by 100 and not divisible by 400, Leap year is skipped.\n",
        "\n",
        "- Example :\n",
        "\n",
        "    -1600 - Leap year\n",
        "  \n",
        "    -1800 - Not a Leap year\n",
        "\n",
        "    -1900 - Not a leap year\n",
        "    \n",
        "    -2000 - Leap year"
      ],
      "metadata": {
        "id": "3KYat80YgCnS"
      }
    },
    {
      "cell_type": "code",
      "source": [
        "year = int(input('Check if this year is a leap year : '))\n",
        "if year % 4 == 0 :\n",
        "\n",
        "    if year % 100 == 0:\n",
        "\n",
        "        if year % 400 == 0:\n",
        "          print('Leap year')\n",
        "        else:\n",
        "          print('Not a leap year')\n",
        "\n",
        "    else:\n",
        "      print('Leap year')\n",
        "\n",
        "else:\n",
        "  print('Not a leap year')"
      ],
      "metadata": {
        "colab": {
          "base_uri": "https://localhost:8080/"
        },
        "id": "EPy2JwgsgC5h",
        "outputId": "b3ddc7b7-0b9b-4345-a98a-30a055ae573d"
      },
      "execution_count": 8,
      "outputs": [
        {
          "output_type": "stream",
          "name": "stdout",
          "text": [
            "Check if this year is a leap year : 1900\n",
            "Not a leap year\n"
          ]
        }
      ]
    }
  ]
}