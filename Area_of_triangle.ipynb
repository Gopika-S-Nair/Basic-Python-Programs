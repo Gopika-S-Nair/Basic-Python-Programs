{
  "nbformat": 4,
  "nbformat_minor": 0,
  "metadata": {
    "colab": {
      "provenance": []
    },
    "kernelspec": {
      "name": "python3",
      "display_name": "Python 3"
    },
    "language_info": {
      "name": "python"
    }
  },
  "cells": [
    {
      "cell_type": "markdown",
      "source": [
        "\n",
        "**Area of a triangle :**\n",
        "\n",
        "*Let's see a basic program of finding the are of a triangle.*\n",
        "\n",
        "\n",
        "\n",
        "i)  are of triangle =  square root of the product s(s – a)(s – b)(s – c) where s is the semiperimeter of the triangle\n",
        "\n",
        "  => Semiperimeter s = (a+b+c)/2\n",
        "\n",
        "ii) area of triangle  = 1/2 x b x h, where b = base of the triangle and h = height of the triangle.\n",
        "\n",
        "\n",
        ""
      ],
      "metadata": {
        "id": "IWEyGEVIG83W"
      }
    },
    {
      "cell_type": "markdown",
      "source": [
        "First let's use the semiperimeter formula to find the area of the triangle."
      ],
      "metadata": {
        "id": "GSGNBHTCIsNC"
      }
    },
    {
      "cell_type": "code",
      "execution_count": 2,
      "metadata": {
        "colab": {
          "base_uri": "https://localhost:8080/"
        },
        "id": "rTrX7sR3Goji",
        "outputId": "bf5dac25-a87a-4587-e8fb-1a5fc1b84dd0"
      },
      "outputs": [
        {
          "output_type": "stream",
          "name": "stdout",
          "text": [
            "Enter side a = 10\n",
            "Enter side b = 12\n",
            "Enter side c = 13\n",
            "Area of a triangle =  56.99506557588999\n"
          ]
        }
      ],
      "source": [
        "# getting a,b,c as inputs from the user\n",
        "\n",
        "a = int(input('Enter side a = '))\n",
        "b = int(input('Enter side b = '))\n",
        "c = int(input('Enter side c = '))\n",
        "\n",
        "#forumula of semiperimeter\n",
        "\n",
        "s = (a+b+c)/2\n",
        "\n",
        "# formula of are of a triangle.\n",
        "\n",
        "area = (s*(s-a)*(s-b)*(s-c)) ** 0.5\n",
        "\n",
        "# printing the output\n",
        "\n",
        "print('Area of a triangle = ', area)"
      ]
    },
    {
      "cell_type": "markdown",
      "source": [
        "Now let'sfind the area of the triangle using the formula 1/2 x b x h"
      ],
      "metadata": {
        "id": "z6KG7Q1oJW_g"
      }
    },
    {
      "cell_type": "code",
      "source": [
        "# getting base and height as input from the user\n",
        "\n",
        "base = int(input('Enter base :'))\n",
        "height =int(input('Enter height : '))\n",
        "\n",
        "# formula of are of a triangle\n",
        "\n",
        "areaoftriangle = (1/2) * base * height\n",
        "\n",
        "# printing the output\n",
        "\n",
        "print('area = ',areaoftriangle)"
      ],
      "metadata": {
        "id": "rU4d6POsJhZG"
      },
      "execution_count": null,
      "outputs": []
    }
  ]
}