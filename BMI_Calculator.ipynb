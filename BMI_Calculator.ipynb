{
  "nbformat": 4,
  "nbformat_minor": 0,
  "metadata": {
    "colab": {
      "provenance": [],
      "authorship_tag": "ABX9TyO7LmfFbnKVthlWIGaYXw5y",
      "include_colab_link": true
    },
    "kernelspec": {
      "name": "python3",
      "display_name": "Python 3"
    },
    "language_info": {
      "name": "python"
    }
  },
  "cells": [
    {
      "cell_type": "markdown",
      "metadata": {
        "id": "view-in-github",
        "colab_type": "text"
      },
      "source": [
        "<a href=\"https://colab.research.google.com/github/Gopika-S-Nair/Basic-Python-Programs/blob/main/BMI_Calculator.ipynb\" target=\"_parent\"><img src=\"https://colab.research.google.com/assets/colab-badge.svg\" alt=\"Open In Colab\"/></a>"
      ]
    },
    {
      "cell_type": "markdown",
      "source": [
        "BMI = Weight /(height^2)\n",
        "\n",
        "- Weight in kg\n",
        "- Height in m\n",
        "- if in cm , divide by 100"
      ],
      "metadata": {
        "id": "rNDLAb2l0ebI"
      }
    },
    {
      "cell_type": "code",
      "execution_count": 12,
      "metadata": {
        "colab": {
          "base_uri": "https://localhost:8080/"
        },
        "id": "oQDQc2oK0dnc",
        "outputId": "fc510606-2d40-4cf6-b254-199c6d77fc3c"
      },
      "outputs": [
        {
          "output_type": "stream",
          "name": "stdout",
          "text": [
            "Enter wight in kg : 42\n",
            "Enter height in cm : 150\n",
            "Bmi is =  18.67\n",
            "Awesome! You are healthy.\n"
          ]
        }
      ],
      "source": [
        "weight = int(input('Enter wight in kg : '))\n",
        "height = float(input('Enter height in cm : '))\n",
        "\n",
        "bmi = weight / (height/100) ** 2\n",
        "\n",
        "print('Bmi is = ', round(bmi, 2))\n",
        "\n",
        "if bmi <= 18.5:\n",
        "    print(\"Oops! You are underweight.\")\n",
        "elif bmi <= 24.9:\n",
        "    print(\"Awesome! You are healthy.\")\n",
        "elif bmi <= 29.9:\n",
        "    print(\"You are over weight.\")\n",
        "else:\n",
        "    print(\"You are obese.\")\n"
      ]
    }
  ]
}